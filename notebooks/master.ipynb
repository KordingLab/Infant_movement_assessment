{
 "cells": [
  {
   "cell_type": "code",
   "execution_count": 2,
   "metadata": {},
   "outputs": [],
   "source": [
    "import sys, os\n",
    "sys.path.insert(0,'../src/data')\n",
    "sys.path.insert(0,'../src/modules')\n",
    "\n",
    "import preprocess_pose_data, build_features, merge_data_sets, compute_surprise\n"
   ]
  },
  {
   "cell_type": "code",
   "execution_count": 3,
   "metadata": {},
   "outputs": [
    {
     "name": "stdout",
     "output_type": "stream",
     "text": [
      "setup for this project has already been done. Skipping download and extraction of data.\n"
     ]
    }
   ],
   "source": [
    "def setup_env():\n",
    "    if not os.path.exists('../data'):\n",
    "        os.makedirs('../data')\n",
    "\n",
    "    if not os.path.exists('../models'):\n",
    "        os.makedirs('../models')\n",
    "\n",
    "    #if data directory is empty, rerun setup \n",
    "    if not os.path.exists('../data') or len(os.listdir('../data')) == 0:\n",
    "        !wget https://figshare.com/ndownloader/files/15593963?private_link=10034c230ad9b2b2a6a4 -O ../pose_data.zip\n",
    "        !unzip -o ../pose_data.zip -d ../\n",
    "\n",
    "\n",
    "        !mv --force ../infant_movement_assessment_repo_files/data/* ../data\n",
    "        !mv --force ../infant_movement_assessment_repo_files/models/* ../models\n",
    "\n",
    "        !rm ../pose_data.zip\n",
    "        !rm -r ../infant_movement_assessment_repo_files\n",
    "    else: \n",
    "        print('setup for this project has already been done. Skipping download and extraction of data.')\n",
    "        \n",
    "setup_env()"
   ]
  },
  {
   "cell_type": "code",
   "execution_count": 4,
   "metadata": {},
   "outputs": [],
   "source": [
    "#load, preprocess, compute kinematic features\n",
    "data_sets = ['youtube', 'clinical']\n",
    "\n",
    "for data_set in data_sets:\n",
    "    print(f'Processing {data_set} data set')\n",
    "\n",
    "    raw_pose_estimates_video_path = f'../data/pose_estimates/{data_set}/py/pose_estimates.pkl'\n",
    "    assert os.path.exists(raw_pose_estimates_video_path), 'Folder does not exist. \\n Edit path to pose estimate data (raw_pose_estimates_video_path) in notebooks/infant_move/master.ipynb, Cell 2.'\n",
    "\n",
    "    #load_pose_data.main(data_set, raw_pose_estimates_video_path)\n",
    "    preprocess_pose_data.main(data_set)\n",
    "    build_features.main(data_set)"
   ]
  },
  {
   "cell_type": "code",
   "execution_count": 5,
   "metadata": {},
   "outputs": [],
   "source": [
    "# Clinical data: load, preprocess, kinematic features\n",
    "data_set = 'clinical'\n",
    "\n",
    "raw_pose_estimates_video_path = f'../data/pose_estimates/{data_set}/py/pose_estimates.pkl'\n",
    "assert os.path.exists(raw_pose_estimates_video_path), 'Folder does not exist. \\n Edit path to pose estimate data (raw_pose_estimates_video_path) in notebooks/infant_move/master.ipynb, Cell 3.'\n",
    "\n",
    "#load_pose_data.main(data_set, raw_pose_estimates_video_path)\n",
    "preprocess_pose_data.main(data_set)\n",
    "build_features.main(data_set)"
   ]
  },
  {
   "cell_type": "code",
   "execution_count": 23,
   "metadata": {},
   "outputs": [],
   "source": [
    "# merge data sets and compute surprise based on features\n",
    "path = '../data/processed/'\n",
    "\n",
    "# merge youtube and clinical data sets\n",
    "merge_data_sets.main()\n",
    "\n",
    "# compute bayes surprise\n",
    "compute_surprise.main(path)\n",
    "\n",
    "# visualizations in notebooks/visualize_results"
   ]
  },
  {
   "cell_type": "code",
   "execution_count": null,
   "metadata": {},
   "outputs": [],
   "source": [
    "# Test pose estimation model: generate predictions from models in ../model folder\n",
    "\n",
    "from keras import backend as K\n",
    "import tensorflow as tf\n",
    "sys.path.insert(0,'../src/pose_model')\n",
    "import get_pose_model_predictions_and_groundtruth\n",
    "\n",
    "check_gpu_is_running =1\n",
    "if check_gpu_is_running==1:\n",
    "    print('CHECK GPU (look for output that mentions GPU)')\n",
    "    print(K.tensorflow_backend._get_available_gpus())\n",
    "    from tensorflow.python.client import device_lib\n",
    "    print(device_lib.list_local_devices())\n",
    "    # Creates a graph.\n",
    "    a = tf.constant([1.0, 2.0, 3.0, 4.0, 5.0, 6.0], shape=[2, 3], name='a')\n",
    "    b = tf.constant([1.0, 2.0, 3.0, 4.0, 5.0, 6.0], shape=[3, 2], name='b')\n",
    "    c = tf.matmul(a, b)\n",
    "    # Creates a session with log_device_placement set to True.\n",
    "    sess = tf.Session(config=tf.ConfigProto(log_device_placement=True))\n",
    "    # Runs the op.\n",
    "    print(sess.run(c))\n",
    "\n",
    "get_pose_model_predictions_and_groundtruth.main()"
   ]
  }
 ],
 "metadata": {
  "kernelspec": {
   "display_name": "Python 3",
   "language": "python",
   "name": "python3"
  },
  "language_info": {
   "codemirror_mode": {
    "name": "ipython",
    "version": 3
   },
   "file_extension": ".py",
   "mimetype": "text/x-python",
   "name": "python",
   "nbconvert_exporter": "python",
   "pygments_lexer": "ipython3",
   "version": "3.8.18"
  }
 },
 "nbformat": 4,
 "nbformat_minor": 2
}
